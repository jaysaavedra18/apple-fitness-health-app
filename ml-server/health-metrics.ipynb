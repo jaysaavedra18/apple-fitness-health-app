{
 "cells": [
  {
   "cell_type": "markdown",
   "metadata": {},
   "source": [
    "## Health Metrics - Data Cleaning"
   ]
  },
  {
   "cell_type": "markdown",
   "metadata": {},
   "source": [
    "### Setup packages and config"
   ]
  },
  {
   "cell_type": "code",
   "execution_count": 52,
   "metadata": {},
   "outputs": [],
   "source": [
    "import pandas as pd"
   ]
  },
  {
   "cell_type": "markdown",
   "metadata": {},
   "source": [
    "### Import data into frames"
   ]
  },
  {
   "cell_type": "code",
   "execution_count": 53,
   "metadata": {},
   "outputs": [],
   "source": [
    "data = pd.read_json('data.json')[\"data\"]\n",
    "wdf = pd.DataFrame(data[\"workouts\"])\n",
    "mdf = pd.DataFrame(data[\"metrics\"])"
   ]
  },
  {
   "cell_type": "markdown",
   "metadata": {},
   "source": [
    "### Clean the data"
   ]
  },
  {
   "cell_type": "code",
   "execution_count": 54,
   "metadata": {},
   "outputs": [],
   "source": [
    "wdf['activeEnergyBurned_qty'] = wdf['activeEnergyBurned'].apply(lambda x: x['qty'] if isinstance(x, dict) else x)\n",
    "wdf['distance_qty'] = wdf['distance'].apply(lambda x: x['qty'] if isinstance(x, dict) else x)\n",
    "wdf['lapLength_qty'] = wdf['lapLength'].apply(lambda x: x['qty'] if isinstance(x, dict) else x)\n",
    "wdf['intensity_qty'] = wdf['intensity'].apply(lambda x: x['qty'] if isinstance(x, dict) else x)\n",
    "wdf['temperature_qty'] = wdf['temperature'].apply(lambda x: x['qty'] if isinstance(x, dict) else x) if 'temperature' in wdf.columns else None\n",
    "if 'humidity' in wdf.columns:\n",
    "    wdf['humidity_qty'] = wdf['humidity'].apply(lambda x: x['qty'] if isinstance(x, dict) else x)\n",
    "else:\n",
    "    wdf['humidity_qty'] = None\n",
    "\n",
    "wdf.drop(['activeEnergyBurned', 'distance', 'lapLength', 'intensity', 'humidity', 'temperature'], axis=1, inplace=True)"
   ]
  }
 ],
 "metadata": {
  "kernelspec": {
   "display_name": "venv",
   "language": "python",
   "name": "python3"
  },
  "language_info": {
   "codemirror_mode": {
    "name": "ipython",
    "version": 3
   },
   "file_extension": ".py",
   "mimetype": "text/x-python",
   "name": "python",
   "nbconvert_exporter": "python",
   "pygments_lexer": "ipython3",
   "version": "3.11.4"
  }
 },
 "nbformat": 4,
 "nbformat_minor": 2
}
