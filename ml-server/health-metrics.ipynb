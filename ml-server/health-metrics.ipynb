{
 "cells": [
  {
   "cell_type": "markdown",
   "metadata": {},
   "source": [
    "## Health Metrics - Data Cleaning"
   ]
  },
  {
   "cell_type": "markdown",
   "metadata": {},
   "source": [
    "### Setup Packages and Config"
   ]
  },
  {
   "cell_type": "code",
   "execution_count": 57,
   "metadata": {},
   "outputs": [],
   "source": [
    "import pandas as pd\n",
    "import numpy as np"
   ]
  },
  {
   "cell_type": "markdown",
   "metadata": {},
   "source": [
    "### Import Data"
   ]
  },
  {
   "cell_type": "code",
   "execution_count": 61,
   "metadata": {},
   "outputs": [
    {
     "name": "stdout",
     "output_type": "stream",
     "text": [
      "                                     id                              name  \\\n",
      "0  1A92CCA1-80B0-4C44-9FA5-DD5A2756478C                     Core Training   \n",
      "1  BAD3330A-E7F0-4C54-9257-43075838357D  High Intensity Interval Training   \n",
      "2  00DA3796-BA60-42EB-B28A-74AD67C5C1B5                   Outdoor Cycling   \n",
      "3  AC234210-6900-45E3-A39F-7EF6505914FE  High Intensity Interval Training   \n",
      "4  2FE239D9-3311-4C24-8A4B-C876EEAC64FB  High Intensity Interval Training   \n",
      "\n",
      "                       start                        end    duration  \\\n",
      "0  2021-03-11 07:03:11 -1000  2021-03-11 07:14:18 -1000  636.608887   \n",
      "1  2021-03-24 14:44:10 -1000  2021-03-24 14:51:11 -1000  421.000305   \n",
      "2  2021-03-26 03:31:24 -1000  2021-03-26 03:40:00 -1000  515.888359   \n",
      "3  2021-04-01 11:30:19 -1000  2021-04-01 11:54:35 -1000  948.742759   \n",
      "4  2021-04-06 10:28:53 -1000  2021-04-06 10:34:36 -1000    5.955130   \n",
      "\n",
      "                              activeEnergyBurned  \\\n",
      "0   {'units': 'kcal', 'qty': 24.111050124606475}   \n",
      "1   {'units': 'kcal', 'qty': 62.307994144769985}   \n",
      "2   {'units': 'kcal', 'qty': 2.2510000000000012}   \n",
      "3   {'units': 'kcal', 'qty': 104.66971473098202}   \n",
      "4  {'units': 'kcal', 'qty': 0.09641972280982501}   \n",
      "\n",
      "                                           intensity  \\\n",
      "0  {'units': 'kcal/hr·kg', 'qty': 3.2253185291250...   \n",
      "1   {'units': 'kcal/hr·kg', 'qty': 8.19168350418671}   \n",
      "2  {'units': 'kcal/hr·kg', 'qty': 2.404163307713482}   \n",
      "3  {'units': 'kcal/hr·kg', 'qty': 6.361804009297137}   \n",
      "4                                                NaN   \n",
      "\n",
      "                                    distance location humidity temperature  \\\n",
      "0                                        NaN      NaN      NaN         NaN   \n",
      "1                                        NaN      NaN      NaN         NaN   \n",
      "2  {'units': 'mi', 'qty': 0.251547935379472}  Outdoor      NaN         NaN   \n",
      "3                                        NaN      NaN      NaN         NaN   \n",
      "4                                        NaN      NaN      NaN         NaN   \n",
      "\n",
      "  lapLength  \n",
      "0       NaN  \n",
      "1       NaN  \n",
      "2       NaN  \n",
      "3       NaN  \n",
      "4       NaN  \n",
      "                    name                                               data  \\\n",
      "0       apple_stand_hour  [{'date': '2024-10-23 00:00:00 -1000', 'qty': ...   \n",
      "1    apple_exercise_time  [{'date': '2024-10-23 00:00:00 -1000', 'qty': ...   \n",
      "2      swimming_distance  [{'date': '2024-12-03 00:00:00 -1000', 'qty': ...   \n",
      "3  swimming_stroke_count  [{'date': '2024-12-03 00:00:00 -1000', 'qty': ...   \n",
      "4        flights_climbed  [{'date': '2024-10-24 00:00:00 -1000', 'qty': ...   \n",
      "\n",
      "   units  \n",
      "0  count  \n",
      "1    min  \n",
      "2     yd  \n",
      "3  count  \n",
      "4  count  \n"
     ]
    }
   ],
   "source": [
    "# Load the JSON data\n",
    "data = pd.read_json('data.json')[\"data\"]\n",
    "\n",
    "# Extract 'workouts' and 'metrics' DataFrames\n",
    "wdf = pd.DataFrame(data[\"workouts\"])\n",
    "mdf = pd.DataFrame(data[\"metrics\"])\n",
    "\n",
    "# Check the first few rows to understand the structure\n",
    "print(wdf.head())\n",
    "print(mdf.head())"
   ]
  },
  {
   "cell_type": "markdown",
   "metadata": {},
   "source": [
    "### Clean the Data"
   ]
  },
  {
   "cell_type": "code",
   "execution_count": 62,
   "metadata": {},
   "outputs": [],
   "source": [
    "# Flatten the nested columns in the 'workouts' DataFrame\n",
    "def extract_qty_column(df, column_name):\n",
    "    if column_name in df.columns:\n",
    "        df[f'{column_name}_qty'] = df[column_name].apply(lambda x: x['qty'] if isinstance(x, dict) else x)\n",
    "    else:\n",
    "        df[f'{column_name}_qty'] = None\n",
    "    return df\n",
    "\n",
    "# Extract the qty from all relvant columns\n",
    "columnns_to_extract = ['activeEnergyBurned', 'distance', 'lapLength', 'intensity', 'humidity', 'temperature']\n",
    "for column_name in columnns_to_extract:\n",
    "    wdf = extract_qty_column(wdf, column_name)\n",
    "# Drop the original columns\n",
    "wdf.drop(columns=columnns_to_extract, axis=1, inplace=True)\n"
   ]
  }
 ],
 "metadata": {
  "kernelspec": {
   "display_name": "venv",
   "language": "python",
   "name": "python3"
  },
  "language_info": {
   "codemirror_mode": {
    "name": "ipython",
    "version": 3
   },
   "file_extension": ".py",
   "mimetype": "text/x-python",
   "name": "python",
   "nbconvert_exporter": "python",
   "pygments_lexer": "ipython3",
   "version": "3.11.4"
  }
 },
 "nbformat": 4,
 "nbformat_minor": 2
}
