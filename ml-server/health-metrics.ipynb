{
 "cells": [
  {
   "cell_type": "markdown",
   "metadata": {},
   "source": [
    "# Health Metrics - Data Cleaning and Analysis\n",
    "## Table of Contents\n",
    "1. [Setup Packages and Config](#setup-packages-and-config)\n",
    "2. [Import Data](#import-data)\n",
    "3. [Clean the Data](#clean-the-data)\n",
    "   - [Flatten Nested Columns](#flatten-nested-columns)\n",
    "   - [Convert Dates to DateTime](#convert-dates-to-datetime)\n",
    "4. [Validate and Save Cleaned Data](#validate-and-save-cleaned-data)\n",
    "5. [Data Analysis](#data-analysis)"
   ]
  },
  {
   "cell_type": "markdown",
   "metadata": {},
   "source": [
    "# 1. Setup Packages and Config "
   ]
  },
  {
   "cell_type": "code",
   "execution_count": 34,
   "metadata": {},
   "outputs": [],
   "source": [
    "import pandas as pd\n",
    "import numpy as np"
   ]
  },
  {
   "cell_type": "markdown",
   "metadata": {},
   "source": [
    "# 2. Import Data"
   ]
  },
  {
   "cell_type": "code",
   "execution_count": 35,
   "metadata": {},
   "outputs": [],
   "source": [
    "# Load the JSON data\n",
    "data = pd.read_json('data.json')[\"data\"]\n",
    "\n",
    "# Extract 'workouts' and 'metrics' DataFrames\n",
    "wdf = pd.DataFrame(data[\"workouts\"])\n",
    "\n",
    "metrics_list = []\n",
    "for metric in data[\"metrics\"]:\n",
    "    df = pd.DataFrame(metric['data'])\n",
    "    df['metric'] = metric['name']\n",
    "    df['units'] = metric['units']\n",
    "    metrics_list.append(df)\n",
    "\n",
    "# Combine all metrics into a single DataFrame\n",
    "mdf = pd.concat(metrics_list, ignore_index=True)"
   ]
  },
  {
   "cell_type": "markdown",
   "metadata": {},
   "source": [
    "# 3. Clean the Data\n",
    "## 3.1 Flatten Nested Columns"
   ]
  },
  {
   "cell_type": "code",
   "execution_count": 36,
   "metadata": {},
   "outputs": [],
   "source": [
    "# Flatten the nested columns in the 'workouts' DataFrame\n",
    "def extract_qty_column(df, column_name):\n",
    "    if column_name in df.columns:\n",
    "        df[f'{column_name}_qty'] = df[column_name].apply(lambda x: x['qty'] if isinstance(x, dict) else x)\n",
    "    else:\n",
    "        df[f'{column_name}_qty'] = np.nan\n",
    "    return df\n",
    "\n",
    "# Extract the qty from all relevant columns\n",
    "columns_to_extract = ['activeEnergyBurned', 'distance', 'lapLength', 'intensity', 'humidity', 'temperature']\n",
    "for column_name in columns_to_extract:\n",
    "    wdf = extract_qty_column(wdf, column_name)\n",
    "\n",
    "# Drop the original columns\n",
    "wdf.drop(columns=columns_to_extract, axis=1, inplace=True)\n",
    "\n",
    "# Rename 'qty' for clarity\n",
    "mdf.rename(columns={'qty': 'value'}, inplace=True)"
   ]
  },
  {
   "cell_type": "markdown",
   "metadata": {},
   "source": [
    "## 3.2 Convert Dates to DateTime\n"
   ]
  },
  {
   "cell_type": "code",
   "execution_count": 37,
   "metadata": {},
   "outputs": [
    {
     "name": "stdout",
     "output_type": "stream",
     "text": [
      "id                          0\n",
      "name                        0\n",
      "start                       0\n",
      "end                         0\n",
      "duration                    0\n",
      "location                  250\n",
      "activeEnergyBurned_qty      2\n",
      "distance_qty              237\n",
      "lapLength_qty             379\n",
      "intensity_qty              12\n",
      "humidity_qty              133\n",
      "temperature_qty           133\n",
      "dtype: int64\n"
     ]
    }
   ],
   "source": [
    "# Convert Dates to DateTime objects\n",
    "wdf['start'] = pd.to_datetime(wdf['start'], format='%Y-%m-%d %H:%M:%S %z')\n",
    "wdf['end'] = pd.to_datetime(wdf['end'], format='%Y-%m-%d %H:%M:%S %z')\n",
    "mdf['date'] = pd.to_datetime(mdf['date'], format='%Y-%m-%d %H:%M:%S %z')\n",
    "\n",
    "# Count the number of missing values in each column \n",
    "print(wdf.isnull().sum())"
   ]
  },
  {
   "cell_type": "markdown",
   "metadata": {},
   "source": [
    "# 4. Validate and Save Cleaned Data"
   ]
  },
  {
   "cell_type": "code",
   "execution_count": 38,
   "metadata": {},
   "outputs": [
    {
     "name": "stdout",
     "output_type": "stream",
     "text": [
      "                                     id                              name  \\\n",
      "0  1A92CCA1-80B0-4C44-9FA5-DD5A2756478C                     Core Training   \n",
      "1  BAD3330A-E7F0-4C54-9257-43075838357D  High Intensity Interval Training   \n",
      "2  00DA3796-BA60-42EB-B28A-74AD67C5C1B5                   Outdoor Cycling   \n",
      "3  AC234210-6900-45E3-A39F-7EF6505914FE  High Intensity Interval Training   \n",
      "4  2FE239D9-3311-4C24-8A4B-C876EEAC64FB  High Intensity Interval Training   \n",
      "\n",
      "                      start                       end    duration location  \\\n",
      "0 2021-03-11 07:03:11-10:00 2021-03-11 07:14:18-10:00  636.608887      NaN   \n",
      "1 2021-03-24 14:44:10-10:00 2021-03-24 14:51:11-10:00  421.000305      NaN   \n",
      "2 2021-03-26 03:31:24-10:00 2021-03-26 03:40:00-10:00  515.888359  Outdoor   \n",
      "3 2021-04-01 11:30:19-10:00 2021-04-01 11:54:35-10:00  948.742759      NaN   \n",
      "4 2021-04-06 10:28:53-10:00 2021-04-06 10:34:36-10:00    5.955130      NaN   \n",
      "\n",
      "   activeEnergyBurned_qty  distance_qty  lapLength_qty  intensity_qty  \\\n",
      "0               24.111050           NaN            NaN       3.225319   \n",
      "1               62.307994           NaN            NaN       8.191684   \n",
      "2                2.251000      0.251548            NaN       2.404163   \n",
      "3              104.669715           NaN            NaN       6.361804   \n",
      "4                0.096420           NaN            NaN            NaN   \n",
      "\n",
      "   humidity_qty  temperature_qty  \n",
      "0           NaN              NaN  \n",
      "1           NaN              NaN  \n",
      "2           NaN              NaN  \n",
      "3           NaN              NaN  \n",
      "4           NaN              NaN  \n"
     ]
    }
   ],
   "source": [
    "# Validate cleaned data\n",
    "print(wdf.head()) \n",
    "\n",
    "# Save the cleaned data\n",
    "wdf.to_csv('cleaned_workouts.csv', index=False)\n",
    "mdf.to_csv('cleaned_metrics.csv', index=False)\n"
   ]
  },
  {
   "cell_type": "markdown",
   "metadata": {},
   "source": [
    "# 5. Data Analysis "
   ]
  },
  {
   "cell_type": "code",
   "execution_count": 39,
   "metadata": {},
   "outputs": [
    {
     "name": "stdout",
     "output_type": "stream",
     "text": [
      "metric\n",
      "active_energy                         423.946000\n",
      "apple_exercise_time                    94.473684\n",
      "apple_stand_hour                        3.666667\n",
      "apple_stand_time                      118.222222\n",
      "basal_energy_burned                  1527.811744\n",
      "blood_oxygen_saturation                96.300000\n",
      "cardio_recovery                        33.290463\n",
      "environmental_audio_exposure           72.577678\n",
      "flights_climbed                         4.695652\n",
      "headphone_audio_exposure               64.576416\n",
      "heart_rate                              0.000000\n",
      "heart_rate_variability                 57.754895\n",
      "physical_effort                         2.595950\n",
      "resting_heart_rate                     66.000000\n",
      "running_ground_contact_time           276.070527\n",
      "running_power                         187.885636\n",
      "running_speed                           5.123525\n",
      "running_stride_length                   1.246192\n",
      "running_vertical_oscillation           11.492335\n",
      "stair_speed_down                        1.155424\n",
      "stair_speed_up                          1.240226\n",
      "step_count                           2917.124043\n",
      "swimming_distance                    1993.565908\n",
      "swimming_stroke_count                 944.666667\n",
      "time_in_daylight                      112.375000\n",
      "vo2_max                                46.178636\n",
      "walking_asymmetry_percentage            1.992759\n",
      "walking_double_support_percentage      29.344235\n",
      "walking_heart_rate_average            105.093750\n",
      "walking_running_distance                1.259293\n",
      "walking_speed                           2.539353\n",
      "walking_step_length                    25.757932\n",
      "Name: value, dtype: float64\n"
     ]
    }
   ],
   "source": [
    "# Group by metric for visualization/analysis\n",
    "grouped = mdf.groupby('metric')\n",
    "\n",
    "# Example: Mean value for each metric\n",
    "mean_values = grouped['value'].mean()\n",
    "print(mean_values)\n"
   ]
  }
 ],
 "metadata": {
  "kernelspec": {
   "display_name": "venv",
   "language": "python",
   "name": "python3"
  },
  "language_info": {
   "codemirror_mode": {
    "name": "ipython",
    "version": 3
   },
   "file_extension": ".py",
   "mimetype": "text/x-python",
   "name": "python",
   "nbconvert_exporter": "python",
   "pygments_lexer": "ipython3",
   "version": "3.11.4"
  }
 },
 "nbformat": 4,
 "nbformat_minor": 2
}
