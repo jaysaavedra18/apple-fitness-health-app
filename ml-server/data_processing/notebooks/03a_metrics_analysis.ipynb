{
 "cells": [
  {
   "cell_type": "code",
   "execution_count": 1,
   "metadata": {},
   "outputs": [],
   "source": [
    "import matplotlib.pyplot as plt\n",
    "import pandas as pd"
   ]
  },
  {
   "cell_type": "code",
   "execution_count": null,
   "metadata": {},
   "outputs": [],
   "source": [
    "data = pd.read_csv('../cleaned_data/cl_metrics.csv')\n",
    "df = pd.DataFrame(data)\n",
    "print(df[\"metric\"].unique())"
   ]
  },
  {
   "cell_type": "code",
   "execution_count": null,
   "metadata": {},
   "outputs": [],
   "source": [
    "# Plot trends for each metric\n",
    "for metric, group in df.groupby('metric'):\n",
    "    plt.figure(figsize=(10, 5))\n",
    "    plt.plot(group['date'], group['value'], marker='o', label=metric)\n",
    "    plt.title(f\"Trend for {metric}\")\n",
    "    plt.xlabel(\"Date\")\n",
    "    plt.ylabel(f\"Value ({group['units'].iloc[0]})\")\n",
    "    plt.legend()\n",
    "    plt.grid(True)\n",
    "    plt.show()"
   ]
  },
  {
   "cell_type": "code",
   "execution_count": null,
   "metadata": {},
   "outputs": [],
   "source": [
    "from functions import analyze_correlation\n",
    "\n",
    "# Analyze correlation between metrics\n",
    "analyze_correlation(df, \"swimming_distance\", \"resting_heart_rate\")\n",
    "analyze_correlation(df, \"walking_running_distance\", \"resting_heart_rate\")\n",
    "analyze_correlation(df, \"walking_running_distance\", \"swimming_distance\")"
   ]
  }
 ],
 "metadata": {
  "kernelspec": {
   "display_name": "venv",
   "language": "python",
   "name": "python3"
  },
  "language_info": {
   "codemirror_mode": {
    "name": "ipython",
    "version": 3
   },
   "file_extension": ".py",
   "mimetype": "text/x-python",
   "name": "python",
   "nbconvert_exporter": "python",
   "pygments_lexer": "ipython3",
   "version": "3.11.4"
  }
 },
 "nbformat": 4,
 "nbformat_minor": 2
}
