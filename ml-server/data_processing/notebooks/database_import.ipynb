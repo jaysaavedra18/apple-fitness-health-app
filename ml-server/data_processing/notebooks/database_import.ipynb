{
 "cells": [
  {
   "cell_type": "markdown",
   "metadata": {},
   "source": [
    "## Connecting to SQLite DB"
   ]
  },
  {
   "cell_type": "code",
   "execution_count": 1,
   "metadata": {},
   "outputs": [],
   "source": [
    "import pandas as pd\n",
    "\n",
    "# Load the data\n",
    "df = pd.read_csv('../cleaned_data/cl_workouts.csv')\n",
    "\n",
    "# Prepare the data\n",
    "df['start'] = pd.to_datetime(df['start'], format='%Y-%m-%d %H:%M:%S%z', errors='coerce')\n",
    "df['end'] = pd.to_datetime(df['end'], format='%Y-%m-%d %H:%M:%S%z', errors='coerce')"
   ]
  },
  {
   "cell_type": "code",
   "execution_count": 2,
   "metadata": {},
   "outputs": [
    {
     "data": {
      "text/plain": [
       "402"
      ]
     },
     "execution_count": 2,
     "metadata": {},
     "output_type": "execute_result"
    }
   ],
   "source": [
    "from sqlalchemy import create_engine\n",
    "\n",
    "engine = create_engine('sqlite:///../cleaned_data/workouts.db', echo=False)\n",
    "df.to_sql('workouts', con=engine, if_exists='replace', index=False)"
   ]
  },
  {
   "cell_type": "code",
   "execution_count": null,
   "metadata": {},
   "outputs": [],
   "source": [
    "# Verify the data by reading it back into pandas\n",
    "query = \"SELECT * FROM workouts WHERE name = 'Pool Swim'\"\n",
    "df_check = pd.read_sql(query, con=engine)\n",
    "\n",
    "print(df_check.head())"
   ]
  }
 ],
 "metadata": {
  "kernelspec": {
   "display_name": "venv",
   "language": "python",
   "name": "python3"
  },
  "language_info": {
   "codemirror_mode": {
    "name": "ipython",
    "version": 3
   },
   "file_extension": ".py",
   "mimetype": "text/x-python",
   "name": "python",
   "nbconvert_exporter": "python",
   "pygments_lexer": "ipython3",
   "version": "3.11.4"
  }
 },
 "nbformat": 4,
 "nbformat_minor": 2
}
