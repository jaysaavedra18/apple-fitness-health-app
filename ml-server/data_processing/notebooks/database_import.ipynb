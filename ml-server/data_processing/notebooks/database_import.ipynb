{
 "cells": [
  {
   "cell_type": "markdown",
   "metadata": {},
   "source": [
    "## Connecting to SQLite DB"
   ]
  },
  {
   "cell_type": "code",
   "execution_count": 15,
   "metadata": {},
   "outputs": [],
   "source": [
    "import pandas as pd\n",
    "\n",
    "# Load the data\n",
    "df = pd.read_csv('../cleaned_data/cl_workouts.csv')\n",
    "\n",
    "# Prepare the data\n",
    "df['start'] = pd.to_datetime(df['start'], format='%Y-%m-%d %H:%M:%S%z', errors='coerce')\n",
    "df['end'] = pd.to_datetime(df['end'], format='%Y-%m-%d %H:%M:%S%z', errors='coerce')\n",
    "df = df.where(pd.notnull(df), None)"
   ]
  },
  {
   "cell_type": "code",
   "execution_count": 16,
   "metadata": {},
   "outputs": [
    {
     "data": {
      "text/plain": [
       "402"
      ]
     },
     "execution_count": 16,
     "metadata": {},
     "output_type": "execute_result"
    }
   ],
   "source": [
    "from sqlalchemy import create_engine\n",
    "\n",
    "engine = create_engine('sqlite:///../cleaned_data/workouts.db', echo=False)\n",
    "df.to_sql('workouts', con=engine, if_exists='replace', index=False)"
   ]
  },
  {
   "cell_type": "code",
   "execution_count": 17,
   "metadata": {},
   "outputs": [
    {
     "name": "stdout",
     "output_type": "stream",
     "text": [
      "                                     id       name  \\\n",
      "0  0EECFC30-8C27-4DE5-99BD-21AC34D4E3C2  Pool Swim   \n",
      "1  16903DC9-5084-4360-BF2B-E0DC2BC3A954  Pool Swim   \n",
      "2  2F255822-4D45-47E8-A82F-C8317407A194  Pool Swim   \n",
      "3  2950491C-9941-48DB-9190-AFDEC3A99A3B  Pool Swim   \n",
      "4  E6544A11-332A-408E-AE47-D07556CA3995  Pool Swim   \n",
      "\n",
      "                        start                         end     duration  \\\n",
      "0  2024-03-20 06:48:54.000000  2024-03-20 07:42:48.000000  3234.099973   \n",
      "1  2024-03-21 05:54:08.000000  2024-03-21 06:30:36.000000  2187.283221   \n",
      "2  2024-03-23 07:27:33.000000  2024-03-23 07:58:00.000000  1826.924003   \n",
      "3  2024-04-03 06:21:55.000000  2024-04-03 07:48:19.000000  5184.253516   \n",
      "4  2024-04-09 12:56:32.000000  2024-04-09 14:06:04.000000  4172.380848   \n",
      "\n",
      "  location  activeEnergyBurned_qty  distance_qty  lapLength_qty  \\\n",
      "0     Pool              281.940691      1.149537       0.031069   \n",
      "1     Pool              193.492531      0.714577       0.031069   \n",
      "2     Pool              183.379000      0.776714       0.031069   \n",
      "3     Pool              493.419549      1.988388       0.031069   \n",
      "4     Pool              425.166908      1.708771       0.031069   \n",
      "\n",
      "   intensity_qty  humidity_qty  temperature_qty  \n",
      "0       5.136677           NaN              NaN  \n",
      "1       5.217730           NaN              NaN  \n",
      "2       5.753222           NaN              NaN  \n",
      "3       5.492535           NaN              NaN  \n",
      "4       5.717704           NaN              NaN  \n"
     ]
    }
   ],
   "source": [
    "# Verify the data by reading it back into pandas\n",
    "query = \"SELECT * FROM workouts WHERE name = 'Pool Swim'\"\n",
    "df_check = pd.read_sql(query, con=engine)\n",
    "\n",
    "print(df_check.head())"
   ]
  }
 ],
 "metadata": {
  "kernelspec": {
   "display_name": "venv",
   "language": "python",
   "name": "python3"
  },
  "language_info": {
   "codemirror_mode": {
    "name": "ipython",
    "version": 3
   },
   "file_extension": ".py",
   "mimetype": "text/x-python",
   "name": "python",
   "nbconvert_exporter": "python",
   "pygments_lexer": "ipython3",
   "version": "3.11.4"
  }
 },
 "nbformat": 4,
 "nbformat_minor": 2
}
