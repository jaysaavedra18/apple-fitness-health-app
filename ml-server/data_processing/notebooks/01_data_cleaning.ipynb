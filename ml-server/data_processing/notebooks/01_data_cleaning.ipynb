{
 "cells": [
  {
   "cell_type": "markdown",
   "metadata": {},
   "source": [
    "# Health Metrics - Data Cleaning and Analysis\n",
    "## Table of Contents\n",
    "1. [Setup Packages and Config](#setup-packages-and-config)\n",
    "2. [Import Data](#import-data)\n",
    "3. [Clean the Data](#clean-the-data)\n",
    "   - [Flatten Nested Columns](#flatten-nested-columns)\n",
    "   - [Convert Dates to DateTime](#convert-dates-to-datetime)\n",
    "4. [Validate and Save Cleaned Data](#validate-and-save-cleaned-data)\n",
    "5. [Data Analysis](#data-analysis)"
   ]
  },
  {
   "cell_type": "markdown",
   "metadata": {},
   "source": [
    "# 1. Setup Packages and Config "
   ]
  },
  {
   "cell_type": "code",
   "execution_count": 23,
   "metadata": {},
   "outputs": [],
   "source": [
    "import pandas as pd\n",
    "import numpy as np"
   ]
  },
  {
   "cell_type": "markdown",
   "metadata": {},
   "source": [
    "# 2. Import Data"
   ]
  },
  {
   "cell_type": "code",
   "execution_count": 24,
   "metadata": {},
   "outputs": [],
   "source": [
    "# Load the JSON data\n",
    "data = pd.read_json('../original_data/data.json')[\"data\"]\n",
    "\n",
    "# Extract 'workouts' and 'metrics' DataFrames\n",
    "wdf = pd.DataFrame(data[\"workouts\"])\n",
    "\n",
    "metrics_list = []\n",
    "for metric in data[\"metrics\"]:\n",
    "    df = pd.DataFrame(metric['data'])\n",
    "    df['metric'] = metric['name']\n",
    "    df['units'] = metric['units']\n",
    "    metrics_list.append(df)\n",
    "\n",
    "# Combine all metrics into a single DataFrame\n",
    "mdf = pd.concat(metrics_list, ignore_index=True)"
   ]
  },
  {
   "cell_type": "markdown",
   "metadata": {},
   "source": [
    "# 3. Clean the Data\n",
    "## 3.1 Flatten Nested Columns"
   ]
  },
  {
   "cell_type": "code",
   "execution_count": 25,
   "metadata": {},
   "outputs": [],
   "source": [
    "# Flatten the nested columns in the 'workouts' DataFrame\n",
    "def extract_qty_column(df, column_name):\n",
    "    if column_name in df.columns:\n",
    "        df[f'{column_name}_qty'] = df[column_name].apply(lambda x: x['qty'] if isinstance(x, dict) else x)\n",
    "    else:\n",
    "        df[f'{column_name}_qty'] = np.nan\n",
    "    return df\n",
    "\n",
    "# Extract the qty from all relevant columns\n",
    "columns_to_extract = ['activeEnergyBurned', 'distance', 'lapLength', 'intensity', 'humidity', 'temperature']\n",
    "for column_name in columns_to_extract:\n",
    "    wdf = extract_qty_column(wdf, column_name)\n",
    "\n",
    "# Drop the original columns\n",
    "wdf.drop(columns=columns_to_extract, axis=1, inplace=True)\n",
    "\n",
    "# Rename 'qty' for clarity\n",
    "mdf.rename(columns={'qty': 'value'}, inplace=True)"
   ]
  },
  {
   "cell_type": "markdown",
   "metadata": {},
   "source": [
    "## 3.2 Convert Dates to DateTime\n"
   ]
  },
  {
   "cell_type": "code",
   "execution_count": 26,
   "metadata": {},
   "outputs": [
    {
     "name": "stdout",
     "output_type": "stream",
     "text": [
      "id                          0\n",
      "name                        0\n",
      "start                       0\n",
      "end                         0\n",
      "duration                    0\n",
      "location                  250\n",
      "activeEnergyBurned_qty      2\n",
      "distance_qty              237\n",
      "lapLength_qty             379\n",
      "intensity_qty              12\n",
      "humidity_qty              133\n",
      "temperature_qty           133\n",
      "dtype: int64\n"
     ]
    }
   ],
   "source": [
    "# Convert Dates to DateTime objects\n",
    "wdf['start'] = pd.to_datetime(wdf['start'], format='%Y-%m-%d %H:%M:%S %z')\n",
    "wdf['end'] = pd.to_datetime(wdf['end'], format='%Y-%m-%d %H:%M:%S %z')\n",
    "mdf['date'] = pd.to_datetime(mdf['date'], format='%Y-%m-%d %H:%M:%S %z')\n",
    "\n",
    "# Count the number of missing values in each column \n",
    "print(wdf.isnull().sum())"
   ]
  },
  {
   "cell_type": "markdown",
   "metadata": {},
   "source": [
    "# 4. Validate and Save Cleaned Data"
   ]
  },
  {
   "cell_type": "code",
   "execution_count": 27,
   "metadata": {},
   "outputs": [
    {
     "name": "stdout",
     "output_type": "stream",
     "text": [
      "                                     id                              name  \\\n",
      "0  1A92CCA1-80B0-4C44-9FA5-DD5A2756478C                     Core Training   \n",
      "1  BAD3330A-E7F0-4C54-9257-43075838357D  High Intensity Interval Training   \n",
      "2  00DA3796-BA60-42EB-B28A-74AD67C5C1B5                   Outdoor Cycling   \n",
      "3  AC234210-6900-45E3-A39F-7EF6505914FE  High Intensity Interval Training   \n",
      "4  2FE239D9-3311-4C24-8A4B-C876EEAC64FB  High Intensity Interval Training   \n",
      "\n",
      "                      start                       end    duration location  \\\n",
      "0 2021-03-11 07:03:11-10:00 2021-03-11 07:14:18-10:00  636.608887      NaN   \n",
      "1 2021-03-24 14:44:10-10:00 2021-03-24 14:51:11-10:00  421.000305      NaN   \n",
      "2 2021-03-26 03:31:24-10:00 2021-03-26 03:40:00-10:00  515.888359  Outdoor   \n",
      "3 2021-04-01 11:30:19-10:00 2021-04-01 11:54:35-10:00  948.742759      NaN   \n",
      "4 2021-04-06 10:28:53-10:00 2021-04-06 10:34:36-10:00    5.955130      NaN   \n",
      "\n",
      "   activeEnergyBurned_qty  distance_qty  lapLength_qty  intensity_qty  \\\n",
      "0               24.111050           NaN            NaN       3.225319   \n",
      "1               62.307994           NaN            NaN       8.191684   \n",
      "2                2.251000      0.251548            NaN       2.404163   \n",
      "3              104.669715           NaN            NaN       6.361804   \n",
      "4                0.096420           NaN            NaN            NaN   \n",
      "\n",
      "   humidity_qty  temperature_qty  \n",
      "0           NaN              NaN  \n",
      "1           NaN              NaN  \n",
      "2           NaN              NaN  \n",
      "3           NaN              NaN  \n",
      "4           NaN              NaN  \n"
     ]
    }
   ],
   "source": [
    "# Validate cleaned data\n",
    "print(wdf.head()) \n",
    "\n",
    "# Save the cleaned data\n",
    "wdf.to_csv('../cleaned_data/cl_workouts.csv', index=False)\n",
    "mdf.to_csv('../cleaned_data/cl_metrics.csv', index=False)"
   ]
  },
  {
   "cell_type": "markdown",
   "metadata": {},
   "source": [
    "# 5. Example Data Analysis: Next Steps"
   ]
  },
  {
   "cell_type": "code",
   "execution_count": 28,
   "metadata": {},
   "outputs": [
    {
     "name": "stdout",
     "output_type": "stream",
     "text": [
      "                                   count         mean          std  \\\n",
      "metric                                                               \n",
      "active_energy                       30.0   423.946000   418.454862   \n",
      "apple_exercise_time                 19.0    94.473684    58.526697   \n",
      "apple_stand_hour                    18.0     3.666667     1.455214   \n",
      "apple_stand_time                    18.0   118.222222    60.821393   \n",
      "basal_energy_burned                 39.0  1527.811744   495.752660   \n",
      "blood_oxygen_saturation              5.0    96.300000     1.857418   \n",
      "cardio_recovery                      4.0    33.290463     0.735433   \n",
      "environmental_audio_exposure        17.0    72.577678     5.223345   \n",
      "flights_climbed                     23.0     4.695652     7.080285   \n",
      "headphone_audio_exposure            77.0    64.576416     6.303185   \n",
      "heart_rate                          18.0     0.000000     0.000000   \n",
      "heart_rate_variability               8.0    57.754895    29.475751   \n",
      "physical_effort                     37.0     2.595950     1.753987   \n",
      "resting_heart_rate                   4.0    66.000000     9.486833   \n",
      "running_ground_contact_time          5.0   276.070527     5.284793   \n",
      "running_power                        5.0   187.885636    21.944112   \n",
      "running_speed                        5.0     5.123525     0.541642   \n",
      "running_stride_length                5.0     1.246192     0.036381   \n",
      "running_vertical_oscillation         5.0    11.492335     0.151953   \n",
      "stair_speed_down                     5.0     1.155424     0.247354   \n",
      "stair_speed_up                       7.0     1.240226     0.228928   \n",
      "step_count                          93.0  2917.124043  3648.367925   \n",
      "swimming_distance                   12.0  1993.565908   135.181203   \n",
      "swimming_stroke_count               12.0   944.666667    71.742384   \n",
      "time_in_daylight                    16.0   112.375000    57.590364   \n",
      "vo2_max                             11.0    46.178636     2.561385   \n",
      "walking_asymmetry_percentage        74.0     1.992759     3.046434   \n",
      "walking_double_support_percentage   78.0    29.344235     0.792289   \n",
      "walking_heart_rate_average          16.0   105.093750    12.186357   \n",
      "walking_running_distance            93.0     1.259293     1.676273   \n",
      "walking_speed                       80.0     2.539353     0.281734   \n",
      "walking_step_length                 80.0    25.757932     2.246415   \n",
      "\n",
      "                                           min          25%          50%  \\\n",
      "metric                                                                     \n",
      "active_energy                         0.095000     0.523750   408.825000   \n",
      "apple_exercise_time                   1.000000    52.500000    73.000000   \n",
      "apple_stand_hour                      2.000000     3.000000     3.000000   \n",
      "apple_stand_time                     53.000000    70.000000    96.000000   \n",
      "basal_energy_burned                 543.969398  1203.906300  1863.948831   \n",
      "blood_oxygen_saturation              94.000000    95.500000    96.000000   \n",
      "cardio_recovery                      32.232379    33.179470    33.496042   \n",
      "environmental_audio_exposure         62.160104    69.186710    72.185524   \n",
      "flights_climbed                       1.000000     1.000000     2.000000   \n",
      "headphone_audio_exposure             51.976481    60.167114    64.518585   \n",
      "heart_rate                            0.000000     0.000000     0.000000   \n",
      "heart_rate_variability               11.778467    39.681916    59.762135   \n",
      "physical_effort                       1.000000     1.000000     1.152000   \n",
      "resting_heart_rate                   58.000000    59.500000    63.500000   \n",
      "running_ground_contact_time         267.232227   276.435146   276.442379   \n",
      "running_power                       167.452778   169.694686   184.429333   \n",
      "running_speed                         4.627091     4.666220     5.039820   \n",
      "running_stride_length                 1.205948     1.208696     1.259714   \n",
      "running_vertical_oscillation         11.266667    11.476277    11.483203   \n",
      "stair_speed_down                      0.845591     1.006444     1.137106   \n",
      "stair_speed_up                        0.868360     1.153886     1.220322   \n",
      "step_count                            6.000000   679.000000  1537.000000   \n",
      "swimming_distance                  1804.461942  1886.482940  1995.844269   \n",
      "swimming_stroke_count               853.000000   896.250000   921.000000   \n",
      "time_in_daylight                     45.000000    70.750000    90.500000   \n",
      "vo2_max                              41.270000    45.580000    47.310000   \n",
      "walking_asymmetry_percentage          0.000000     0.000000     0.887500   \n",
      "walking_double_support_percentage    27.366667    28.963095    29.288194   \n",
      "walking_heart_rate_average           82.000000    97.750000   109.000000   \n",
      "walking_running_distance              0.002578     0.265525     0.595802   \n",
      "walking_speed                         1.476378     2.434739     2.548989   \n",
      "walking_step_length                  18.503937    24.433071    26.001230   \n",
      "\n",
      "                                           75%           max  \n",
      "metric                                                        \n",
      "active_energy                       638.844500   1148.758000  \n",
      "apple_exercise_time                 167.000000    185.000000  \n",
      "apple_stand_hour                      4.750000      7.000000  \n",
      "apple_stand_time                    178.750000    216.000000  \n",
      "basal_energy_burned                1899.479735   1994.513584  \n",
      "blood_oxygen_saturation              97.000000     99.000000  \n",
      "cardio_recovery                      33.607035     33.937391  \n",
      "environmental_audio_exposure         77.907542     79.749330  \n",
      "flights_climbed                       4.000000     33.000000  \n",
      "headphone_audio_exposure             68.650235     84.852765  \n",
      "heart_rate                            0.000000      0.000000  \n",
      "heart_rate_variability               80.496824     96.471110  \n",
      "physical_effort                       4.094304      6.570056  \n",
      "resting_heart_rate                   70.000000     79.000000  \n",
      "running_ground_contact_time         279.616667    280.626214  \n",
      "running_power                       197.084029    220.767355  \n",
      "running_speed                         5.348332      5.936165  \n",
      "running_stride_length                 1.274852      1.281750  \n",
      "running_vertical_oscillation         11.548387     11.687143  \n",
      "stair_speed_down                      1.315309      1.472670  \n",
      "stair_speed_up                        1.358953      1.567221  \n",
      "step_count                         3252.000000  15945.443111  \n",
      "swimming_distance                  2030.019685   2296.587927  \n",
      "swimming_stroke_count               999.000000   1078.000000  \n",
      "time_in_daylight                    178.250000    204.000000  \n",
      "vo2_max                              47.772500     48.185000  \n",
      "walking_asymmetry_percentage          2.463158     13.937500  \n",
      "walking_double_support_percentage    29.778409     32.300000  \n",
      "walking_heart_rate_average          111.000000    131.000000  \n",
      "walking_running_distance              1.297745      6.683312  \n",
      "walking_speed                         2.718277      3.075787  \n",
      "walking_step_length                  27.152572     29.573877  \n"
     ]
    }
   ],
   "source": [
    "# Group by metric for visualization/analysis\n",
    "grouped = mdf.groupby('metric')\n",
    "\n",
    "# Print important statistics for each metric\n",
    "print(grouped['value'].describe())"
   ]
  }
 ],
 "metadata": {
  "kernelspec": {
   "display_name": "venv",
   "language": "python",
   "name": "python3"
  },
  "language_info": {
   "codemirror_mode": {
    "name": "ipython",
    "version": 3
   },
   "file_extension": ".py",
   "mimetype": "text/x-python",
   "name": "python",
   "nbconvert_exporter": "python",
   "pygments_lexer": "ipython3",
   "version": "3.11.4"
  }
 },
 "nbformat": 4,
 "nbformat_minor": 2
}
