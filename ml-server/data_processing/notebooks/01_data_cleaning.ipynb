{
 "cells": [
  {
   "cell_type": "markdown",
   "metadata": {},
   "source": [
    "# Health Metrics - Data Cleaning and Analysis\n",
    "## Table of Contents\n",
    "1. [Setup Packages and Config](#setup-packages-and-config)\n",
    "2. [Import Data](#import-data)\n",
    "3. [Clean the Data](#clean-the-data)\n",
    "   - [Flatten Nested Columns](#flatten-nested-columns)\n",
    "   - [Convert Dates to DateTime](#convert-dates-to-datetime)\n",
    "4. [Validate and Save Cleaned Data](#validate-and-save-cleaned-data)\n",
    "5. [Data Analysis](#data-analysis)"
   ]
  },
  {
   "cell_type": "markdown",
   "metadata": {},
   "source": [
    "# 1. Setup Packages and Config "
   ]
  },
  {
   "cell_type": "code",
   "execution_count": 48,
   "metadata": {},
   "outputs": [],
   "source": [
    "import pandas as pd\n",
    "import numpy as np"
   ]
  },
  {
   "cell_type": "markdown",
   "metadata": {},
   "source": [
    "# 2. Import Data"
   ]
  },
  {
   "cell_type": "code",
   "execution_count": 49,
   "metadata": {},
   "outputs": [],
   "source": [
    "# Load the JSON data\n",
    "data = pd.read_json('data.json')[\"data\"]\n",
    "\n",
    "# Extract 'workouts' and 'metrics' DataFrames\n",
    "wdf = pd.DataFrame(data[\"workouts\"])\n",
    "\n",
    "metrics_list = []\n",
    "for metric in data[\"metrics\"]:\n",
    "    df = pd.DataFrame(metric['data'])\n",
    "    df['metric'] = metric['name']\n",
    "    df['units'] = metric['units']\n",
    "    metrics_list.append(df)\n",
    "\n",
    "# Combine all metrics into a single DataFrame\n",
    "mdf = pd.concat(metrics_list, ignore_index=True)"
   ]
  },
  {
   "cell_type": "markdown",
   "metadata": {},
   "source": [
    "# 3. Clean the Data\n",
    "## 3.1 Flatten Nested Columns"
   ]
  },
  {
   "cell_type": "code",
   "execution_count": 50,
   "metadata": {},
   "outputs": [],
   "source": [
    "# Flatten the nested columns in the 'workouts' DataFrame\n",
    "def extract_qty_column(df, column_name):\n",
    "    if column_name in df.columns:\n",
    "        df[f'{column_name}_qty'] = df[column_name].apply(lambda x: x['qty'] if isinstance(x, dict) else x)\n",
    "    else:\n",
    "        df[f'{column_name}_qty'] = np.nan\n",
    "    return df\n",
    "\n",
    "# Extract the qty from all relevant columns\n",
    "columns_to_extract = ['activeEnergyBurned', 'distance', 'lapLength', 'intensity', 'humidity', 'temperature']\n",
    "for column_name in columns_to_extract:\n",
    "    wdf = extract_qty_column(wdf, column_name)\n",
    "\n",
    "# Drop the original columns\n",
    "wdf.drop(columns=columns_to_extract, axis=1, inplace=True)\n",
    "\n",
    "# Rename 'qty' for clarity\n",
    "mdf.rename(columns={'qty': 'value'}, inplace=True)"
   ]
  },
  {
   "cell_type": "markdown",
   "metadata": {},
   "source": [
    "## 3.2 Convert Dates to DateTime\n"
   ]
  },
  {
   "cell_type": "code",
   "execution_count": null,
   "metadata": {},
   "outputs": [],
   "source": [
    "# Convert Dates to DateTime objects\n",
    "wdf['start'] = pd.to_datetime(wdf['start'], format='%Y-%m-%d %H:%M:%S %z')\n",
    "wdf['end'] = pd.to_datetime(wdf['end'], format='%Y-%m-%d %H:%M:%S %z')\n",
    "mdf['date'] = pd.to_datetime(mdf['date'], format='%Y-%m-%d %H:%M:%S %z')\n",
    "\n",
    "# Count the number of missing values in each column \n",
    "print(wdf.isnull().sum())"
   ]
  },
  {
   "cell_type": "markdown",
   "metadata": {},
   "source": [
    "# 4. Validate and Save Cleaned Data"
   ]
  },
  {
   "cell_type": "code",
   "execution_count": null,
   "metadata": {},
   "outputs": [],
   "source": [
    "# Validate cleaned data\n",
    "print(wdf.head()) \n",
    "\n",
    "# Save the cleaned data\n",
    "wdf.to_csv('cleaned_workouts.csv', index=False)\n",
    "mdf.to_csv('cleaned_metrics.csv', index=False)"
   ]
  },
  {
   "cell_type": "markdown",
   "metadata": {},
   "source": [
    "# 5. Example Data Analysis: Next Steps"
   ]
  },
  {
   "cell_type": "code",
   "execution_count": null,
   "metadata": {},
   "outputs": [],
   "source": [
    "# Group by metric for visualization/analysis\n",
    "grouped = mdf.groupby('metric')\n",
    "\n",
    "# Print important statistics for each metric\n",
    "print(grouped['value'].describe())"
   ]
  },
  {
   "cell_type": "code",
   "execution_count": null,
   "metadata": {},
   "outputs": [],
   "source": [
    "import matplotlib.pyplot as plt\n",
    "\n",
    "# Plot trends for each metric\n",
    "for metric, group in mdf.groupby('metric'):\n",
    "    plt.figure(figsize=(10, 5))\n",
    "    plt.plot(group['date'], group['value'], marker='o', label=metric)\n",
    "    plt.title(f\"Trend for {metric}\")\n",
    "    plt.xlabel(\"Date\")\n",
    "    plt.ylabel(f\"Value ({group['units'].iloc[0]})\")\n",
    "    plt.legend()\n",
    "    plt.grid(True)\n",
    "    plt.show()"
   ]
  }
 ],
 "metadata": {
  "kernelspec": {
   "display_name": "venv",
   "language": "python",
   "name": "python3"
  },
  "language_info": {
   "codemirror_mode": {
    "name": "ipython",
    "version": 3
   },
   "file_extension": ".py",
   "mimetype": "text/x-python",
   "name": "python",
   "nbconvert_exporter": "python",
   "pygments_lexer": "ipython3",
   "version": "3.11.4"
  }
 },
 "nbformat": 4,
 "nbformat_minor": 2
}
